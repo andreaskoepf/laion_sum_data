{
 "cells": [
  {
   "cell_type": "markdown",
   "metadata": {},
   "source": [
    "# The Harvard USPTO Patent Dataset (HUPD)\n",
    "\n",
    "HF dataset: https://huggingface.co/datasets/HUPD/hupd\n",
    "\n",
    "Very large dataset ~ 164G."
   ]
  },
  {
   "cell_type": "code",
   "execution_count": null,
   "metadata": {},
   "outputs": [],
   "source": [
    "\n",
    "\n",
    "import datasets\n",
    "from pathlib import Path\n",
    "\n",
    "cache_dir = str(Path('../hf_data_cache/').resolve())\n",
    "\n",
    "\n",
    "\n",
    "\n",
    "dataset_dict = datasets.load_dataset('HUPD/hupd',\n",
    "    name='all',\n",
    "    data_files=\"https://huggingface.co/datasets/HUPD/hupd/blob/main/hupd_metadata_2022-02-22.feather\", \n",
    "    icpr_label=None,\n",
    "    force_extract=True,\n",
    "    train_filing_start_date='2011-01-01',\n",
    "    train_filing_end_date='2016-12-31',\n",
    "    val_filing_start_date='2017-01-01',\n",
    "    val_filing_end_date='2017-12-31',\n",
    "    cache_dir=cache_dir\n",
    ")\n"
   ]
  }
 ],
 "metadata": {
  "kernelspec": {
   "display_name": "Python 3.8.10 ('news_venv': venv)",
   "language": "python",
   "name": "python3"
  },
  "language_info": {
   "name": "python",
   "version": "3.8.10"
  },
  "orig_nbformat": 4,
  "vscode": {
   "interpreter": {
    "hash": "52837886e5e45ddaef7e1045db27270fbeb0fd633b908ac870aa34fbd32295eb"
   }
  }
 },
 "nbformat": 4,
 "nbformat_minor": 2
}
