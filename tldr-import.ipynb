{
 "cells": [
  {
   "cell_type": "markdown",
   "metadata": {},
   "source": [
    "# Dataset for generating TL;DR\n",
    "\n",
    "Mylo had already converted the dataset to a text+summary parquet. Add minimal provenance information.\n",
    "\n",
    "Website: https://zenodo.org/record/1168855#.Y4dUvDPMIUH"
   ]
  },
  {
   "cell_type": "code",
   "execution_count": 7,
   "metadata": {},
   "outputs": [
    {
     "name": "stdout",
     "output_type": "stream",
     "text": [
      "reading:  df1.parquet\n",
      "1542205 rows read.\n",
      "writing:  data/tldr-challenge/tldr-challenge_00000.snappy.parquet\n",
      "1542205 rows written.\n",
      "reading:  df2.parquet\n",
      "1542205 rows read.\n",
      "writing:  data/tldr-challenge/tldr-challenge_00001.snappy.parquet\n",
      "1542205 rows written.\n"
     ]
    }
   ],
   "source": [
    "from pathlib import Path\n",
    "import json\n",
    "import pandas as pd\n",
    "\n",
    "input_dir = Path('../tldr-challenge/')\n",
    "input_file_names = ['df1.parquet', 'df2.parquet']\n",
    "\n",
    "compression = \"snappy\"\n",
    "output_prefix = 'tldr-challenge'\n",
    "output_dir = Path('./data/tldr-challenge/')\n",
    "\n",
    "output_dir.mkdir(parents=True, exist_ok=True)\n",
    "\n",
    "for part,fn in enumerate(input_file_names):\n",
    "    print('reading: ', fn)\n",
    "    df = pd.read_parquet(path=str(input_dir / fn), engine='pyarrow', columns=['text', 'summary'])\n",
    "    print(f'{len(df)} rows read.')\n",
    "\n",
    "    # add minimal provenance info\n",
    "    provenance = pd.array([json.dumps({ 'src': output_prefix, 'doi': '10.5281/zenodo.1043504' })] * len(df), dtype=\"string\")\n",
    "    df[\"provenance\"] = provenance\n",
    "\n",
    "    fn = f'{output_prefix}_{part:05d}.{compression}.parquet'  \n",
    "    fn = output_dir / fn\n",
    "    print('writing: ', fn)\n",
    "    df.to_parquet(\n",
    "        fn, \n",
    "        engine=\"pyarrow\",\n",
    "        compression=compression\n",
    "    )\n",
    "    print(f'{len(df)} rows written.')\n",
    "    df = None"
   ]
  },
  {
   "cell_type": "code",
   "execution_count": 8,
   "metadata": {},
   "outputs": [
    {
     "name": "stdout",
     "output_type": "stream",
     "text": [
      "file: \"tldr-challenge_00000.snappy.parquet\"; rows: 1542205; mean_wordcount: { text: 207.96; summary: 24.17; }; mean_strlen: { text: 1116.41; summary: 132.31 };\n",
      "file: \"tldr-challenge_00001.snappy.parquet\"; rows: 1542205; mean_wordcount: { text: 219.33; summary: 27.98; }; mean_strlen: { text: 1170.94; summary: 151.76 };\n"
     ]
    }
   ],
   "source": [
    "# check files in output dir\n",
    "\n",
    "def mean_strlen(col: pd.Series):\n",
    "    return col.apply(len).mean()\n",
    "\n",
    "def count_words(s):\n",
    "    return sum(1 for w in s.split(' ') if len(w) > 0)\n",
    "\n",
    "def mean_wordcount(col: pd.Series):\n",
    "    return col.apply(count_words).mean()\n",
    "\n",
    "\n",
    "for fn in output_dir.glob('*.parquet'):\n",
    "    df = pd.read_parquet(path=str(fn), engine='pyarrow')\n",
    "    text, summary = df[\"text\"], df[\"summary\"]\n",
    "    print(f'file: \"{fn.name}\"; rows: {len(df)}; mean_wordcount: {{ text: {mean_wordcount(text):.2f}; summary: {mean_wordcount(summary):.2f}; }}; mean_strlen: {{ text: {mean_strlen(text):.2f}; summary: {mean_strlen(summary):.2f} }};')\n"
   ]
  }
 ],
 "metadata": {
  "kernelspec": {
   "display_name": "Python 3.8.10 ('news_venv': venv)",
   "language": "python",
   "name": "python3"
  },
  "language_info": {
   "codemirror_mode": {
    "name": "ipython",
    "version": 3
   },
   "file_extension": ".py",
   "mimetype": "text/x-python",
   "name": "python",
   "nbconvert_exporter": "python",
   "pygments_lexer": "ipython3",
   "version": "3.8.10"
  },
  "orig_nbformat": 4,
  "vscode": {
   "interpreter": {
    "hash": "52837886e5e45ddaef7e1045db27270fbeb0fd633b908ac870aa34fbd32295eb"
   }
  }
 },
 "nbformat": 4,
 "nbformat_minor": 2
}
